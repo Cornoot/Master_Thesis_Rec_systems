{
 "cells": [
  {
   "cell_type": "markdown",
   "metadata": {},
   "source": [
    "# Recommendation System 1\n",
    "\n",
    "---\n",
    "\n",
    "The first iteration exists only of Time Management Methods, by using the Cosine Sim Algorithm to search through the text for any hits or misses."
   ]
  },
  {
   "cell_type": "code",
   "execution_count": 1,
   "metadata": {},
   "outputs": [],
   "source": [
    "import pandas as pd\n",
    "import numpy as np"
   ]
  },
  {
   "cell_type": "code",
   "execution_count": 2,
   "metadata": {
    "scrolled": false
   },
   "outputs": [
    {
     "data": {
      "text/html": [
       "<div>\n",
       "<style scoped>\n",
       "    .dataframe tbody tr th:only-of-type {\n",
       "        vertical-align: middle;\n",
       "    }\n",
       "\n",
       "    .dataframe tbody tr th {\n",
       "        vertical-align: top;\n",
       "    }\n",
       "\n",
       "    .dataframe thead th {\n",
       "        text-align: right;\n",
       "    }\n",
       "</style>\n",
       "<table border=\"1\" class=\"dataframe\">\n",
       "  <thead>\n",
       "    <tr style=\"text-align: right;\">\n",
       "      <th></th>\n",
       "      <th>Title</th>\n",
       "      <th>Keywords</th>\n",
       "      <th>Description</th>\n",
       "      <th>necessities</th>\n",
       "      <th>effectiveness</th>\n",
       "      <th>Difficulty</th>\n",
       "      <th>Feedback</th>\n",
       "      <th>Goal</th>\n",
       "      <th>Focus</th>\n",
       "      <th>Attentionspan</th>\n",
       "      <th>decreased s.a.</th>\n",
       "      <th>discipline</th>\n",
       "      <th>Time awareness</th>\n",
       "    </tr>\n",
       "  </thead>\n",
       "  <tbody>\n",
       "    <tr>\n",
       "      <th>0</th>\n",
       "      <td>1-3-5 Rule</td>\n",
       "      <td>1 big task, 3 medium tasks and 5 smaller tasks,</td>\n",
       "      <td>Every working day, you can accomplish only 1 b...</td>\n",
       "      <td>NaN</td>\n",
       "      <td>1</td>\n",
       "      <td>5</td>\n",
       "      <td>2</td>\n",
       "      <td>4</td>\n",
       "      <td>4</td>\n",
       "      <td>3</td>\n",
       "      <td>1</td>\n",
       "      <td>5</td>\n",
       "      <td>5</td>\n",
       "    </tr>\n",
       "    <tr>\n",
       "      <th>1</th>\n",
       "      <td>168 Hours</td>\n",
       "      <td>168 hours</td>\n",
       "      <td>‍There are 168 hours in a week, which means th...</td>\n",
       "      <td>NaN</td>\n",
       "      <td>5</td>\n",
       "      <td>5</td>\n",
       "      <td>1</td>\n",
       "      <td>1</td>\n",
       "      <td>1</td>\n",
       "      <td>2</td>\n",
       "      <td>2</td>\n",
       "      <td>4</td>\n",
       "      <td>3</td>\n",
       "    </tr>\n",
       "    <tr>\n",
       "      <th>2</th>\n",
       "      <td>10 Minutes</td>\n",
       "      <td>Stop after 10 mins, 10 minutes,</td>\n",
       "      <td>Sit down, commit 10 minutes of effort to a sel...</td>\n",
       "      <td>NaN</td>\n",
       "      <td>2</td>\n",
       "      <td>3</td>\n",
       "      <td>2</td>\n",
       "      <td>3</td>\n",
       "      <td>3</td>\n",
       "      <td>2</td>\n",
       "      <td>1</td>\n",
       "      <td>2</td>\n",
       "      <td>1</td>\n",
       "    </tr>\n",
       "    <tr>\n",
       "      <th>3</th>\n",
       "      <td>10 Minute Task</td>\n",
       "      <td>10 minute, tasks, break down, tasks,</td>\n",
       "      <td>Every single task on your to-do list should ta...</td>\n",
       "      <td>NaN</td>\n",
       "      <td>4</td>\n",
       "      <td>2</td>\n",
       "      <td>1</td>\n",
       "      <td>3</td>\n",
       "      <td>3</td>\n",
       "      <td>3</td>\n",
       "      <td>2</td>\n",
       "      <td>3</td>\n",
       "      <td>3</td>\n",
       "    </tr>\n",
       "    <tr>\n",
       "      <th>4</th>\n",
       "      <td>18 Minutes</td>\n",
       "      <td>daily schelude, 5 minutes, start of the day,</td>\n",
       "      <td>Start your day by spending 5 minutes on going ...</td>\n",
       "      <td>NaN</td>\n",
       "      <td>1</td>\n",
       "      <td>4</td>\n",
       "      <td>4</td>\n",
       "      <td>2</td>\n",
       "      <td>3</td>\n",
       "      <td>4</td>\n",
       "      <td>5</td>\n",
       "      <td>4</td>\n",
       "      <td>4</td>\n",
       "    </tr>\n",
       "  </tbody>\n",
       "</table>\n",
       "</div>"
      ],
      "text/plain": [
       "            Title                                         Keywords  \\\n",
       "0      1-3-5 Rule  1 big task, 3 medium tasks and 5 smaller tasks,   \n",
       "1       168 Hours                                        168 hours   \n",
       "2      10 Minutes                  Stop after 10 mins, 10 minutes,   \n",
       "3  10 Minute Task             10 minute, tasks, break down, tasks,   \n",
       "4      18 Minutes     daily schelude, 5 minutes, start of the day,   \n",
       "\n",
       "                                         Description  necessities  \\\n",
       "0  Every working day, you can accomplish only 1 b...          NaN   \n",
       "1  ‍There are 168 hours in a week, which means th...          NaN   \n",
       "2  Sit down, commit 10 minutes of effort to a sel...          NaN   \n",
       "3  Every single task on your to-do list should ta...          NaN   \n",
       "4  Start your day by spending 5 minutes on going ...          NaN   \n",
       "\n",
       "   effectiveness  Difficulty  Feedback  Goal  Focus  Attentionspan  \\\n",
       "0              1           5         2     4      4              3   \n",
       "1              5           5         1     1      1              2   \n",
       "2              2           3         2     3      3              2   \n",
       "3              4           2         1     3      3              3   \n",
       "4              1           4         4     2      3              4   \n",
       "\n",
       "   decreased s.a.  discipline  Time awareness  \n",
       "0               1           5               5  \n",
       "1               2           4               3  \n",
       "2               1           2               1  \n",
       "3               2           3               3  \n",
       "4               5           4               4  "
      ]
     },
     "execution_count": 2,
     "metadata": {},
     "output_type": "execute_result"
    }
   ],
   "source": [
    "df1 = pd.read_csv('TMT_and_CoF.csv', sep=';', error_bad_lines=False)\n",
    "df1.head()"
   ]
  },
  {
   "cell_type": "code",
   "execution_count": 3,
   "metadata": {},
   "outputs": [
    {
     "name": "stdout",
     "output_type": "stream",
     "text": [
      "<class 'pandas.core.frame.DataFrame'>\n",
      "RangeIndex: 48 entries, 0 to 47\n",
      "Data columns (total 13 columns):\n",
      " #   Column          Non-Null Count  Dtype  \n",
      "---  ------          --------------  -----  \n",
      " 0   Title           48 non-null     object \n",
      " 1   Keywords        46 non-null     object \n",
      " 2   Description     48 non-null     object \n",
      " 3   necessities     0 non-null      float64\n",
      " 4   effectiveness   48 non-null     int64  \n",
      " 5   Difficulty      48 non-null     int64  \n",
      " 6   Feedback        48 non-null     int64  \n",
      " 7   Goal            48 non-null     int64  \n",
      " 8   Focus           48 non-null     int64  \n",
      " 9   Attentionspan   48 non-null     int64  \n",
      " 10  decreased s.a.  48 non-null     int64  \n",
      " 11  discipline      48 non-null     int64  \n",
      " 12  Time awareness  48 non-null     int64  \n",
      "dtypes: float64(1), int64(9), object(3)\n",
      "memory usage: 5.0+ KB\n"
     ]
    }
   ],
   "source": [
    "df1.info()"
   ]
  },
  {
   "cell_type": "code",
   "execution_count": 4,
   "metadata": {},
   "outputs": [
    {
     "data": {
      "text/html": [
       "<div>\n",
       "<style scoped>\n",
       "    .dataframe tbody tr th:only-of-type {\n",
       "        vertical-align: middle;\n",
       "    }\n",
       "\n",
       "    .dataframe tbody tr th {\n",
       "        vertical-align: top;\n",
       "    }\n",
       "\n",
       "    .dataframe thead th {\n",
       "        text-align: right;\n",
       "    }\n",
       "</style>\n",
       "<table border=\"1\" class=\"dataframe\">\n",
       "  <thead>\n",
       "    <tr style=\"text-align: right;\">\n",
       "      <th></th>\n",
       "      <th>Title</th>\n",
       "      <th>Keywords</th>\n",
       "      <th>Description</th>\n",
       "      <th>effectiveness</th>\n",
       "      <th>Difficulty</th>\n",
       "      <th>Feedback</th>\n",
       "      <th>Goal</th>\n",
       "      <th>Focus</th>\n",
       "      <th>Attentionspan</th>\n",
       "      <th>decreased s.a.</th>\n",
       "      <th>discipline</th>\n",
       "      <th>Time awareness</th>\n",
       "    </tr>\n",
       "  </thead>\n",
       "  <tbody>\n",
       "    <tr>\n",
       "      <th>0</th>\n",
       "      <td>1-3-5 Rule</td>\n",
       "      <td>1 big task, 3 medium tasks and 5 smaller tasks,</td>\n",
       "      <td>Every working day, you can accomplish only 1 b...</td>\n",
       "      <td>1</td>\n",
       "      <td>5</td>\n",
       "      <td>2</td>\n",
       "      <td>4</td>\n",
       "      <td>4</td>\n",
       "      <td>3</td>\n",
       "      <td>1</td>\n",
       "      <td>5</td>\n",
       "      <td>5</td>\n",
       "    </tr>\n",
       "    <tr>\n",
       "      <th>1</th>\n",
       "      <td>168 Hours</td>\n",
       "      <td>168 hours</td>\n",
       "      <td>‍There are 168 hours in a week, which means th...</td>\n",
       "      <td>5</td>\n",
       "      <td>5</td>\n",
       "      <td>1</td>\n",
       "      <td>1</td>\n",
       "      <td>1</td>\n",
       "      <td>2</td>\n",
       "      <td>2</td>\n",
       "      <td>4</td>\n",
       "      <td>3</td>\n",
       "    </tr>\n",
       "    <tr>\n",
       "      <th>2</th>\n",
       "      <td>10 Minutes</td>\n",
       "      <td>Stop after 10 mins, 10 minutes,</td>\n",
       "      <td>Sit down, commit 10 minutes of effort to a sel...</td>\n",
       "      <td>2</td>\n",
       "      <td>3</td>\n",
       "      <td>2</td>\n",
       "      <td>3</td>\n",
       "      <td>3</td>\n",
       "      <td>2</td>\n",
       "      <td>1</td>\n",
       "      <td>2</td>\n",
       "      <td>1</td>\n",
       "    </tr>\n",
       "    <tr>\n",
       "      <th>3</th>\n",
       "      <td>10 Minute Task</td>\n",
       "      <td>10 minute, tasks, break down, tasks,</td>\n",
       "      <td>Every single task on your to-do list should ta...</td>\n",
       "      <td>4</td>\n",
       "      <td>2</td>\n",
       "      <td>1</td>\n",
       "      <td>3</td>\n",
       "      <td>3</td>\n",
       "      <td>3</td>\n",
       "      <td>2</td>\n",
       "      <td>3</td>\n",
       "      <td>3</td>\n",
       "    </tr>\n",
       "    <tr>\n",
       "      <th>4</th>\n",
       "      <td>18 Minutes</td>\n",
       "      <td>daily schelude, 5 minutes, start of the day,</td>\n",
       "      <td>Start your day by spending 5 minutes on going ...</td>\n",
       "      <td>1</td>\n",
       "      <td>4</td>\n",
       "      <td>4</td>\n",
       "      <td>2</td>\n",
       "      <td>3</td>\n",
       "      <td>4</td>\n",
       "      <td>5</td>\n",
       "      <td>4</td>\n",
       "      <td>4</td>\n",
       "    </tr>\n",
       "  </tbody>\n",
       "</table>\n",
       "</div>"
      ],
      "text/plain": [
       "            Title                                         Keywords  \\\n",
       "0      1-3-5 Rule  1 big task, 3 medium tasks and 5 smaller tasks,   \n",
       "1       168 Hours                                        168 hours   \n",
       "2      10 Minutes                  Stop after 10 mins, 10 minutes,   \n",
       "3  10 Minute Task             10 minute, tasks, break down, tasks,   \n",
       "4      18 Minutes     daily schelude, 5 minutes, start of the day,   \n",
       "\n",
       "                                         Description  effectiveness  \\\n",
       "0  Every working day, you can accomplish only 1 b...              1   \n",
       "1  ‍There are 168 hours in a week, which means th...              5   \n",
       "2  Sit down, commit 10 minutes of effort to a sel...              2   \n",
       "3  Every single task on your to-do list should ta...              4   \n",
       "4  Start your day by spending 5 minutes on going ...              1   \n",
       "\n",
       "   Difficulty  Feedback  Goal  Focus  Attentionspan  decreased s.a.  \\\n",
       "0           5         2     4      4              3               1   \n",
       "1           5         1     1      1              2               2   \n",
       "2           3         2     3      3              2               1   \n",
       "3           2         1     3      3              3               2   \n",
       "4           4         4     2      3              4               5   \n",
       "\n",
       "   discipline  Time awareness  \n",
       "0           5               5  \n",
       "1           4               3  \n",
       "2           2               1  \n",
       "3           3               3  \n",
       "4           4               4  "
      ]
     },
     "execution_count": 4,
     "metadata": {},
     "output_type": "execute_result"
    }
   ],
   "source": [
    "#drop the necessities row for the NaN\n",
    "del df1['necessities']\n",
    "df1.head()"
   ]
  },
  {
   "cell_type": "markdown",
   "metadata": {},
   "source": [
    "---\n",
    "\n",
    "### Soup\n",
    "\n",
    "For the TfifD vectorize Algorithm it's important to know that to search through the data set, it needs a word soup.\n",
    "\n",
    "The word soup is a combination of the description, as keywords and title. This will result in a new column (named description_2)."
   ]
  },
  {
   "cell_type": "code",
   "execution_count": 5,
   "metadata": {},
   "outputs": [
    {
     "data": {
      "text/html": [
       "<div>\n",
       "<style scoped>\n",
       "    .dataframe tbody tr th:only-of-type {\n",
       "        vertical-align: middle;\n",
       "    }\n",
       "\n",
       "    .dataframe tbody tr th {\n",
       "        vertical-align: top;\n",
       "    }\n",
       "\n",
       "    .dataframe thead th {\n",
       "        text-align: right;\n",
       "    }\n",
       "</style>\n",
       "<table border=\"1\" class=\"dataframe\">\n",
       "  <thead>\n",
       "    <tr style=\"text-align: right;\">\n",
       "      <th></th>\n",
       "      <th>Title</th>\n",
       "      <th>Keywords</th>\n",
       "      <th>Description</th>\n",
       "      <th>effectiveness</th>\n",
       "      <th>Difficulty</th>\n",
       "      <th>Feedback</th>\n",
       "      <th>Goal</th>\n",
       "      <th>Focus</th>\n",
       "      <th>Attentionspan</th>\n",
       "      <th>decreased s.a.</th>\n",
       "      <th>discipline</th>\n",
       "      <th>Time awareness</th>\n",
       "      <th>Description_2</th>\n",
       "    </tr>\n",
       "  </thead>\n",
       "  <tbody>\n",
       "    <tr>\n",
       "      <th>0</th>\n",
       "      <td>1-3-5 Rule</td>\n",
       "      <td>1 big task, 3 medium tasks and 5 smaller tasks,</td>\n",
       "      <td>Every working day, you can accomplish only 1 b...</td>\n",
       "      <td>1</td>\n",
       "      <td>5</td>\n",
       "      <td>2</td>\n",
       "      <td>4</td>\n",
       "      <td>4</td>\n",
       "      <td>3</td>\n",
       "      <td>1</td>\n",
       "      <td>5</td>\n",
       "      <td>5</td>\n",
       "      <td>1 big task, 3 medium tasks and 5 smaller tasks...</td>\n",
       "    </tr>\n",
       "    <tr>\n",
       "      <th>1</th>\n",
       "      <td>168 Hours</td>\n",
       "      <td>168 hours</td>\n",
       "      <td>‍There are 168 hours in a week, which means th...</td>\n",
       "      <td>5</td>\n",
       "      <td>5</td>\n",
       "      <td>1</td>\n",
       "      <td>1</td>\n",
       "      <td>1</td>\n",
       "      <td>2</td>\n",
       "      <td>2</td>\n",
       "      <td>4</td>\n",
       "      <td>3</td>\n",
       "      <td>168 hours‍There are 168 hours in a week, which...</td>\n",
       "    </tr>\n",
       "    <tr>\n",
       "      <th>2</th>\n",
       "      <td>10 Minutes</td>\n",
       "      <td>Stop after 10 mins, 10 minutes,</td>\n",
       "      <td>Sit down, commit 10 minutes of effort to a sel...</td>\n",
       "      <td>2</td>\n",
       "      <td>3</td>\n",
       "      <td>2</td>\n",
       "      <td>3</td>\n",
       "      <td>3</td>\n",
       "      <td>2</td>\n",
       "      <td>1</td>\n",
       "      <td>2</td>\n",
       "      <td>1</td>\n",
       "      <td>Stop after 10 mins, 10 minutes,Sit down, commi...</td>\n",
       "    </tr>\n",
       "    <tr>\n",
       "      <th>3</th>\n",
       "      <td>10 Minute Task</td>\n",
       "      <td>10 minute, tasks, break down, tasks,</td>\n",
       "      <td>Every single task on your to-do list should ta...</td>\n",
       "      <td>4</td>\n",
       "      <td>2</td>\n",
       "      <td>1</td>\n",
       "      <td>3</td>\n",
       "      <td>3</td>\n",
       "      <td>3</td>\n",
       "      <td>2</td>\n",
       "      <td>3</td>\n",
       "      <td>3</td>\n",
       "      <td>10 minute, tasks, break down, tasks,Every sing...</td>\n",
       "    </tr>\n",
       "    <tr>\n",
       "      <th>4</th>\n",
       "      <td>18 Minutes</td>\n",
       "      <td>daily schelude, 5 minutes, start of the day,</td>\n",
       "      <td>Start your day by spending 5 minutes on going ...</td>\n",
       "      <td>1</td>\n",
       "      <td>4</td>\n",
       "      <td>4</td>\n",
       "      <td>2</td>\n",
       "      <td>3</td>\n",
       "      <td>4</td>\n",
       "      <td>5</td>\n",
       "      <td>4</td>\n",
       "      <td>4</td>\n",
       "      <td>daily schelude, 5 minutes, start of the day,St...</td>\n",
       "    </tr>\n",
       "  </tbody>\n",
       "</table>\n",
       "</div>"
      ],
      "text/plain": [
       "            Title                                         Keywords  \\\n",
       "0      1-3-5 Rule  1 big task, 3 medium tasks and 5 smaller tasks,   \n",
       "1       168 Hours                                        168 hours   \n",
       "2      10 Minutes                  Stop after 10 mins, 10 minutes,   \n",
       "3  10 Minute Task             10 minute, tasks, break down, tasks,   \n",
       "4      18 Minutes     daily schelude, 5 minutes, start of the day,   \n",
       "\n",
       "                                         Description  effectiveness  \\\n",
       "0  Every working day, you can accomplish only 1 b...              1   \n",
       "1  ‍There are 168 hours in a week, which means th...              5   \n",
       "2  Sit down, commit 10 minutes of effort to a sel...              2   \n",
       "3  Every single task on your to-do list should ta...              4   \n",
       "4  Start your day by spending 5 minutes on going ...              1   \n",
       "\n",
       "   Difficulty  Feedback  Goal  Focus  Attentionspan  decreased s.a.  \\\n",
       "0           5         2     4      4              3               1   \n",
       "1           5         1     1      1              2               2   \n",
       "2           3         2     3      3              2               1   \n",
       "3           2         1     3      3              3               2   \n",
       "4           4         4     2      3              4               5   \n",
       "\n",
       "   discipline  Time awareness  \\\n",
       "0           5               5   \n",
       "1           4               3   \n",
       "2           2               1   \n",
       "3           3               3   \n",
       "4           4               4   \n",
       "\n",
       "                                       Description_2  \n",
       "0  1 big task, 3 medium tasks and 5 smaller tasks...  \n",
       "1  168 hours‍There are 168 hours in a week, which...  \n",
       "2  Stop after 10 mins, 10 minutes,Sit down, commi...  \n",
       "3  10 minute, tasks, break down, tasks,Every sing...  \n",
       "4  daily schelude, 5 minutes, start of the day,St...  "
      ]
     },
     "execution_count": 5,
     "metadata": {},
     "output_type": "execute_result"
    }
   ],
   "source": [
    "#merge Keywords and description together\n",
    "df1[\"Description_2\"] = df1[\"Keywords\"] + df1[\"Description\"]\n",
    "df1.head()"
   ]
  },
  {
   "cell_type": "code",
   "execution_count": 6,
   "metadata": {},
   "outputs": [
    {
     "data": {
      "text/plain": [
       "0     1 big task, 3 medium tasks and 5 smaller tasks...\n",
       "1     168 hours‍There are 168 hours in a week, which...\n",
       "2     Stop after 10 mins, 10 minutes,Sit down, commi...\n",
       "3     10 minute, tasks, break down, tasks,Every sing...\n",
       "4     daily schelude, 5 minutes, start of the day,St...\n",
       "5     complete focus, rest, 90 minutes, sessions, fo...\n",
       "6     Delete, Delegate, Do now or referBefore perfor...\n",
       "7     focus for 52 minutes, 52 minutes, 17 minute br...\n",
       "8     Review, day, end, tomorrow, sleep,Spend 7 minu...\n",
       "9     List, important, less important You divide the...\n",
       "10    Month, year, week, day, achieve for a time per...\n",
       "11    New tasks, old tasks, recorruring old tasks, u...\n",
       "12    Batching, minimize idle time, idling, idle,Bat...\n",
       "13    Biologycal rythms, productive hours, working t...\n",
       "14    Dave Lee's SystemA system used by Dave Lee tha...\n",
       "15    now, instant, this momentIf it takes less than...\n",
       "16    First thing first, hardest, accomplishment aft...\n",
       "17    Fresh, complexe task, when fresh do complexe t...\n",
       "18    Save all the tasks in a digital system, digita...\n",
       "19    E-mail, email, inbox, zero,Every day, get your...\n",
       "20    Ivy Lee, 6 important tasks, important tasks, p...\n",
       "21    MIT, 1, 3, tasks, higher importance, high impo...\n",
       "22    Must, should, want, analyze and categories in ...\n",
       "23    Pareto Analysis, highest value tasks, tasks, 2...\n",
       "24    Prioritize, Organizing, Streamlining, Daily ba...\n",
       "25    Maxtrix, System, consult, meeting goals, goals...\n",
       "26    Tony Robbin's, What do I want, outcome, search...\n",
       "27    Take it everywhere, log, logging, everything, ...\n",
       "28    automate tasks, tasks, minimaze skills,Try to ...\n",
       "29    categories, backburner, references, action ite...\n",
       "30    to-do-list,-not-to-dolist, not, to do, to-do-,...\n",
       "31    autofocus, focus, list, method,Don’t bother to...\n",
       "32    checklist, easy-to-follow, checklist, to-do-ch...\n",
       "33    To-do-list, lists, final version, version, fin...\n",
       "34    medium, note-taking app, notebook, capture, id...\n",
       "35    Now, habit, unschedule, noschedulude, no-list,...\n",
       "36    Productivity, journalling, journal, helpful, w...\n",
       "37    Glass, rocks, big tasks, importanttask,Categor...\n",
       "38                                                  NaN\n",
       "39                                                  NaN\n",
       "40    Spotlight, green, red, yellow, immediate atten...\n",
       "41    Time, Boxing, Time-Boxing, calendar,Timeboxing...\n",
       "42    Time, blocking, methods, method block, block m...\n",
       "43    To-do-lists, to-done-lists, achieve, more achi...\n",
       "44    Top goal, top-goal, goal, lists, list-of-goal,...\n",
       "45    Triage, technique, method, different categorie...\n",
       "46    boss imposed, imposed, self-imposed, boss-impo...\n",
       "47    Process, collect, do, time-managing, method, w...\n",
       "Name: Description_2, dtype: object"
      ]
     },
     "execution_count": 6,
     "metadata": {},
     "output_type": "execute_result"
    }
   ],
   "source": [
    "df1['Description_2']"
   ]
  },
  {
   "cell_type": "markdown",
   "metadata": {},
   "source": [
    "### Sklearn, TfidFVectorize.\n",
    "\n",
    "For the next part, we need to remove all the stop words from the word soup, so they aren't included in the search. After that, the algorithm fills all the empty spots (left out by the Algorithm) with spaces (' ').\n",
    "\n",
    "In the end, it will print out the feature names. To see how many words there are in the vocabulary (or wordsoup)."
   ]
  },
  {
   "cell_type": "code",
   "execution_count": 7,
   "metadata": {},
   "outputs": [
    {
     "name": "stdout",
     "output_type": "stream",
     "text": [
      "There are 414 words in the vocabulary. A selection: ['advance', 'afterward', 'allocate', 'alternative', 'analysis', 'analyze', 'answer', 'app', 'applied', 'appointments', 'area', 'areas', 'articles', 'ask', 'attention', 'autofocus', 'automate', 'backburner', 'basis', 'batch', 'batching', 'best', 'big', 'biological', 'biologycal', 'block', 'blocking', 'boss']\n"
     ]
    },
    {
     "data": {
      "text/plain": [
       "(48, 413)"
      ]
     },
     "execution_count": 7,
     "metadata": {},
     "output_type": "execute_result"
    }
   ],
   "source": [
    "from sklearn.feature_extraction.text import TfidfVectorizer\n",
    "\n",
    "text = df1['Description_2'].values.astype('U')\n",
    "#Define a TF-IDF Vectorizer Object. Remove all english stop words such as 'the', 'a'\n",
    "tfidf = TfidfVectorizer(stop_words='english')\n",
    "\n",
    "#Replace NaN with an empty string\n",
    "df1['Description_2'] = df1['Description_2'].fillna('')\n",
    "\n",
    "tfidf = tfidf.fit(text) #We fit the model with the words from the preference text\n",
    "tfidf\n",
    "\n",
    "feature_names = tfidf.get_feature_names() #Get the words from the vocabulary\n",
    "#feature_names\n",
    "print(f\"There are {len(feature_names)} words in the vocabulary. A selection: {feature_names[20:48]}\")\n",
    "\n",
    "#Construct the required TF-IDF matrix by fitting and transforming the data\n",
    "tfidf_matrix = tfidf.fit_transform(df1['Description_2'])\n",
    "\n",
    "#Output the shape of tfidf_matrix\n",
    "tfidf_matrix.shape"
   ]
  },
  {
   "cell_type": "code",
   "execution_count": 8,
   "metadata": {
    "scrolled": false
   },
   "outputs": [
    {
     "data": {
      "text/plain": [
       "['advance',\n",
       " 'afterward',\n",
       " 'allocate',\n",
       " 'alternative',\n",
       " 'analysis',\n",
       " 'analyze',\n",
       " 'answer',\n",
       " 'app',\n",
       " 'applied',\n",
       " 'appointments',\n",
       " 'area',\n",
       " 'areas',\n",
       " 'articles',\n",
       " 'ask',\n",
       " 'attention',\n",
       " 'autofocus',\n",
       " 'automate',\n",
       " 'backburner',\n",
       " 'basis',\n",
       " 'batch',\n",
       " 'batching',\n",
       " 'best',\n",
       " 'big',\n",
       " 'biological',\n",
       " 'biologycal',\n",
       " 'block',\n",
       " 'blocking',\n",
       " 'boss']"
      ]
     },
     "execution_count": 8,
     "metadata": {},
     "output_type": "execute_result"
    }
   ],
   "source": [
    "#Array mapping from feature integer indices to feature name.\n",
    "tfidf.get_feature_names()[20:48]"
   ]
  },
  {
   "cell_type": "code",
   "execution_count": 9,
   "metadata": {},
   "outputs": [],
   "source": [
    "# Import linear_kernel\n",
    "from sklearn.metrics.pairwise import linear_kernel\n",
    "\n",
    "# Compute the cosine similarity matrix\n",
    "cosine_sim = linear_kernel(tfidf_matrix, tfidf_matrix)"
   ]
  },
  {
   "cell_type": "code",
   "execution_count": 10,
   "metadata": {},
   "outputs": [
    {
     "data": {
      "text/plain": [
       "(48, 48)"
      ]
     },
     "execution_count": 10,
     "metadata": {},
     "output_type": "execute_result"
    }
   ],
   "source": [
    "cosine_sim.shape"
   ]
  },
  {
   "cell_type": "code",
   "execution_count": 11,
   "metadata": {},
   "outputs": [
    {
     "data": {
      "text/plain": [
       "array([0.        , 1.        , 0.        , 0.        , 0.        ,\n",
       "       0.        , 0.        , 0.        , 0.        , 0.1239884 ,\n",
       "       0.12746301, 0.01255343, 0.04209274, 0.23934085, 0.06462021,\n",
       "       0.        , 0.02609345, 0.        , 0.        , 0.02412135,\n",
       "       0.10417944, 0.02399158, 0.03558922, 0.        , 0.        ,\n",
       "       0.        , 0.        , 0.03672016, 0.        , 0.        ,\n",
       "       0.08544355, 0.02355364, 0.        , 0.        , 0.01351813,\n",
       "       0.        , 0.01732443, 0.09038062, 0.        , 0.        ,\n",
       "       0.        , 0.12055487, 0.19935191, 0.        , 0.03017918,\n",
       "       0.15438049, 0.        , 0.08735345])"
      ]
     },
     "execution_count": 11,
     "metadata": {},
     "output_type": "execute_result"
    }
   ],
   "source": [
    "cosine_sim[1]"
   ]
  },
  {
   "cell_type": "code",
   "execution_count": 12,
   "metadata": {},
   "outputs": [],
   "source": [
    "#Construct a reverse map of indices and time management techniques\n",
    "indices = pd.Series(df1.index, index=df1['Title']).drop_duplicates()"
   ]
  },
  {
   "cell_type": "code",
   "execution_count": 13,
   "metadata": {},
   "outputs": [
    {
     "data": {
      "text/plain": [
       "Title\n",
       "1-3-5 Rule                  0\n",
       "168 Hours                   1\n",
       "10 Minutes                  2\n",
       "10 Minute Task              3\n",
       "18 Minutes                  4\n",
       "90 Minutes Focus Session    5\n",
       "4D System                   6\n",
       "52 / 17                     7\n",
       "7 Minute Life               8\n",
       "ABCDE                       9\n",
       "dtype: int64"
      ]
     },
     "execution_count": 13,
     "metadata": {},
     "output_type": "execute_result"
    }
   ],
   "source": [
    "indices[:10]"
   ]
  },
  {
   "cell_type": "code",
   "execution_count": 14,
   "metadata": {},
   "outputs": [],
   "source": [
    "# Function that takes in method title as input and outputs most similar methods\n",
    "def get_recommendations(title, cosine_sim=cosine_sim):\n",
    "    # Get the index of the method that matches the title\n",
    "    idx = indices[title]\n",
    "\n",
    "    # Get the pairwsie similarity scores of all movies with that TMM\n",
    "    sim_scores = list(enumerate(cosine_sim[idx]))\n",
    "\n",
    "    # Sort the TMM based on the similarity scores\n",
    "    sim_scores = sorted(sim_scores, key=lambda x: x[1], reverse=True)\n",
    "\n",
    "    # Get the scores of the 10 most similar time managing methods\n",
    "    sim_scores = sim_scores[1:11]\n",
    "\n",
    "    # Get the management indices\n",
    "    time_indices = [i[0] for i in sim_scores]\n",
    "\n",
    "    # Return the top 10 similar methods\n",
    "    return df1['Title'].iloc[time_indices]"
   ]
  },
  {
   "cell_type": "code",
   "execution_count": 15,
   "metadata": {
    "scrolled": true
   },
   "outputs": [
    {
     "name": "stdout",
     "output_type": "stream",
     "text": [
      "What time management do you want a recommendation on? 11\n",
      "Your top 10 is:\n"
     ]
    },
    {
     "data": {
      "text/plain": [
       "31     The autofocus Method\n",
       "0                1-3-5 Rule\n",
       "21                     MITs\n",
       "20                  Ivy Lee\n",
       "23    Pareto Analysis 20/80\n",
       "9                     ABCDE\n",
       "17           Fresh or Fried\n",
       "43             To-done list\n",
       "47              Zen to Done\n",
       "45         Triage Technique\n",
       "Name: Title, dtype: object"
      ]
     },
     "execution_count": 15,
     "metadata": {},
     "output_type": "execute_result"
    }
   ],
   "source": [
    "#get_recommendations('Time Boxing')\n",
    "\n",
    "title = int(input('What time management do you want a recommendation on? '))\n",
    "\n",
    "#title = ('Time Boxing')\n",
    "\n",
    "def recommendation (x):\n",
    "    print ('Your top 10 is:')\n",
    "    recommendations = get_recommendations(title, cosine_sim) \n",
    "    return recommendations\n",
    "\n",
    "recommendation(1)"
   ]
  },
  {
   "cell_type": "code",
   "execution_count": 16,
   "metadata": {},
   "outputs": [
    {
     "name": "stdout",
     "output_type": "stream",
     "text": [
      "What time management technique do you want to know more about? Technique:31\n",
      "Title                                          The autofocus Method\n",
      "Keywords                            autofocus, focus, list, method,\n",
      "Description       Don’t bother too much with deadlines and prior...\n",
      "effectiveness                                                     3\n",
      "Difficulty                                                        4\n",
      "Feedback                                                          1\n",
      "Goal                                                              2\n",
      "Focus                                                             1\n",
      "Attentionspan                                                     3\n",
      "decreased s.a.                                                    1\n",
      "discipline                                                        5\n",
      "Time awareness                                                    3\n",
      "Description_2     autofocus, focus, list, method,Don’t bother to...\n",
      "Name: 31, dtype: object\n",
      "\n"
     ]
    }
   ],
   "source": [
    "def show_match(df1):\n",
    "    match_view = int(input('What time management technique do you want to know more about? Technique:' )) \n",
    "    print(df1.loc[match_view,:])\n",
    "    print()\n",
    "\n",
    "show_match(df1)"
   ]
  },
  {
   "cell_type": "code",
   "execution_count": 17,
   "metadata": {},
   "outputs": [
    {
     "name": "stdout",
     "output_type": "stream",
     "text": [
      "<function match_characteristics at 0x12994e790>\n"
     ]
    }
   ],
   "source": [
    "string_user = str(title)\n",
    "\n",
    "def match_characteristics (x):\n",
    "    likes = ('What qualities/characteristics do you like about this match? ')\n",
    "    df1.loc[df1['Title'] == string_user, 'name_match'] = input(likes) \n",
    "    df1.loc[df1['Title'] != string_user, 'name_match'] = ''\n",
    "    return (match_characteristics)\n",
    "\n",
    "print(match_characteristics)"
   ]
  },
  {
   "cell_type": "code",
   "execution_count": 19,
   "metadata": {},
   "outputs": [
    {
     "name": "stdout",
     "output_type": "stream",
     "text": [
      "Do you like this match? nope\n",
      "nope\n",
      "Okay, maybe one of the other 9 methods will be a better match. 31     The autofocus Method\n",
      "0                1-3-5 Rule\n",
      "21                     MITs\n",
      "20                  Ivy Lee\n",
      "23    Pareto Analysis 20/80\n",
      "9                     ABCDE\n",
      "17           Fresh or Fried\n",
      "43             To-done list\n",
      "47              Zen to Done\n",
      "Name: Title, dtype: object\n"
     ]
    },
    {
     "ename": "KeyError",
     "evalue": "'name_match'",
     "output_type": "error",
     "traceback": [
      "\u001b[0;31m---------------------------------------------------------------------------\u001b[0m",
      "\u001b[0;31mKeyError\u001b[0m                                  Traceback (most recent call last)",
      "\u001b[0;32m/opt/anaconda3/lib/python3.8/site-packages/pandas/core/indexes/base.py\u001b[0m in \u001b[0;36mget_loc\u001b[0;34m(self, key, method, tolerance)\u001b[0m\n\u001b[1;32m   2645\u001b[0m             \u001b[0;32mtry\u001b[0m\u001b[0;34m:\u001b[0m\u001b[0;34m\u001b[0m\u001b[0;34m\u001b[0m\u001b[0m\n\u001b[0;32m-> 2646\u001b[0;31m                 \u001b[0;32mreturn\u001b[0m \u001b[0mself\u001b[0m\u001b[0;34m.\u001b[0m\u001b[0m_engine\u001b[0m\u001b[0;34m.\u001b[0m\u001b[0mget_loc\u001b[0m\u001b[0;34m(\u001b[0m\u001b[0mkey\u001b[0m\u001b[0;34m)\u001b[0m\u001b[0;34m\u001b[0m\u001b[0;34m\u001b[0m\u001b[0m\n\u001b[0m\u001b[1;32m   2647\u001b[0m             \u001b[0;32mexcept\u001b[0m \u001b[0mKeyError\u001b[0m\u001b[0;34m:\u001b[0m\u001b[0;34m\u001b[0m\u001b[0;34m\u001b[0m\u001b[0m\n",
      "\u001b[0;32mpandas/_libs/index.pyx\u001b[0m in \u001b[0;36mpandas._libs.index.IndexEngine.get_loc\u001b[0;34m()\u001b[0m\n",
      "\u001b[0;32mpandas/_libs/index.pyx\u001b[0m in \u001b[0;36mpandas._libs.index.IndexEngine.get_loc\u001b[0;34m()\u001b[0m\n",
      "\u001b[0;32mpandas/_libs/hashtable_class_helper.pxi\u001b[0m in \u001b[0;36mpandas._libs.hashtable.PyObjectHashTable.get_item\u001b[0;34m()\u001b[0m\n",
      "\u001b[0;32mpandas/_libs/hashtable_class_helper.pxi\u001b[0m in \u001b[0;36mpandas._libs.hashtable.PyObjectHashTable.get_item\u001b[0;34m()\u001b[0m\n",
      "\u001b[0;31mKeyError\u001b[0m: 'name_match'",
      "\nDuring handling of the above exception, another exception occurred:\n",
      "\u001b[0;31mKeyError\u001b[0m                                  Traceback (most recent call last)",
      "\u001b[0;32m<ipython-input-19-0fb39cceae17>\u001b[0m in \u001b[0;36m<module>\u001b[0;34m\u001b[0m\n\u001b[1;32m     10\u001b[0m \u001b[0;34m\u001b[0m\u001b[0m\n\u001b[1;32m     11\u001b[0m \u001b[0;31m#merge column with the user input with the users 'likes' describtion\u001b[0m\u001b[0;34m\u001b[0m\u001b[0;34m\u001b[0m\u001b[0;34m\u001b[0m\u001b[0m\n\u001b[0;32m---> 12\u001b[0;31m \u001b[0mdf1\u001b[0m\u001b[0;34m[\u001b[0m\u001b[0;34m'Description_2'\u001b[0m\u001b[0;34m]\u001b[0m \u001b[0;34m=\u001b[0m \u001b[0mdf1\u001b[0m\u001b[0;34m[\u001b[0m\u001b[0;34m'Description_2'\u001b[0m\u001b[0;34m]\u001b[0m\u001b[0;34m+\u001b[0m \u001b[0;34m' '\u001b[0m \u001b[0;34m+\u001b[0m\u001b[0mdf1\u001b[0m\u001b[0;34m[\u001b[0m\u001b[0;34m'name_match'\u001b[0m\u001b[0;34m]\u001b[0m\u001b[0;34m\u001b[0m\u001b[0;34m\u001b[0m\u001b[0m\n\u001b[0m\u001b[1;32m     13\u001b[0m \u001b[0;34m\u001b[0m\u001b[0m\n\u001b[1;32m     14\u001b[0m \u001b[0mdf1\u001b[0m\u001b[0;34m.\u001b[0m\u001b[0mloc\u001b[0m\u001b[0;34m[\u001b[0m\u001b[0mtitle\u001b[0m\u001b[0;34m,\u001b[0m \u001b[0;34m\"Description_2\"\u001b[0m\u001b[0;34m]\u001b[0m\u001b[0;34m\u001b[0m\u001b[0;34m\u001b[0m\u001b[0m\n",
      "\u001b[0;32m/opt/anaconda3/lib/python3.8/site-packages/pandas/core/frame.py\u001b[0m in \u001b[0;36m__getitem__\u001b[0;34m(self, key)\u001b[0m\n\u001b[1;32m   2798\u001b[0m             \u001b[0;32mif\u001b[0m \u001b[0mself\u001b[0m\u001b[0;34m.\u001b[0m\u001b[0mcolumns\u001b[0m\u001b[0;34m.\u001b[0m\u001b[0mnlevels\u001b[0m \u001b[0;34m>\u001b[0m \u001b[0;36m1\u001b[0m\u001b[0;34m:\u001b[0m\u001b[0;34m\u001b[0m\u001b[0;34m\u001b[0m\u001b[0m\n\u001b[1;32m   2799\u001b[0m                 \u001b[0;32mreturn\u001b[0m \u001b[0mself\u001b[0m\u001b[0;34m.\u001b[0m\u001b[0m_getitem_multilevel\u001b[0m\u001b[0;34m(\u001b[0m\u001b[0mkey\u001b[0m\u001b[0;34m)\u001b[0m\u001b[0;34m\u001b[0m\u001b[0;34m\u001b[0m\u001b[0m\n\u001b[0;32m-> 2800\u001b[0;31m             \u001b[0mindexer\u001b[0m \u001b[0;34m=\u001b[0m \u001b[0mself\u001b[0m\u001b[0;34m.\u001b[0m\u001b[0mcolumns\u001b[0m\u001b[0;34m.\u001b[0m\u001b[0mget_loc\u001b[0m\u001b[0;34m(\u001b[0m\u001b[0mkey\u001b[0m\u001b[0;34m)\u001b[0m\u001b[0;34m\u001b[0m\u001b[0;34m\u001b[0m\u001b[0m\n\u001b[0m\u001b[1;32m   2801\u001b[0m             \u001b[0;32mif\u001b[0m \u001b[0mis_integer\u001b[0m\u001b[0;34m(\u001b[0m\u001b[0mindexer\u001b[0m\u001b[0;34m)\u001b[0m\u001b[0;34m:\u001b[0m\u001b[0;34m\u001b[0m\u001b[0;34m\u001b[0m\u001b[0m\n\u001b[1;32m   2802\u001b[0m                 \u001b[0mindexer\u001b[0m \u001b[0;34m=\u001b[0m \u001b[0;34m[\u001b[0m\u001b[0mindexer\u001b[0m\u001b[0;34m]\u001b[0m\u001b[0;34m\u001b[0m\u001b[0;34m\u001b[0m\u001b[0m\n",
      "\u001b[0;32m/opt/anaconda3/lib/python3.8/site-packages/pandas/core/indexes/base.py\u001b[0m in \u001b[0;36mget_loc\u001b[0;34m(self, key, method, tolerance)\u001b[0m\n\u001b[1;32m   2646\u001b[0m                 \u001b[0;32mreturn\u001b[0m \u001b[0mself\u001b[0m\u001b[0;34m.\u001b[0m\u001b[0m_engine\u001b[0m\u001b[0;34m.\u001b[0m\u001b[0mget_loc\u001b[0m\u001b[0;34m(\u001b[0m\u001b[0mkey\u001b[0m\u001b[0;34m)\u001b[0m\u001b[0;34m\u001b[0m\u001b[0;34m\u001b[0m\u001b[0m\n\u001b[1;32m   2647\u001b[0m             \u001b[0;32mexcept\u001b[0m \u001b[0mKeyError\u001b[0m\u001b[0;34m:\u001b[0m\u001b[0;34m\u001b[0m\u001b[0;34m\u001b[0m\u001b[0m\n\u001b[0;32m-> 2648\u001b[0;31m                 \u001b[0;32mreturn\u001b[0m \u001b[0mself\u001b[0m\u001b[0;34m.\u001b[0m\u001b[0m_engine\u001b[0m\u001b[0;34m.\u001b[0m\u001b[0mget_loc\u001b[0m\u001b[0;34m(\u001b[0m\u001b[0mself\u001b[0m\u001b[0;34m.\u001b[0m\u001b[0m_maybe_cast_indexer\u001b[0m\u001b[0;34m(\u001b[0m\u001b[0mkey\u001b[0m\u001b[0;34m)\u001b[0m\u001b[0;34m)\u001b[0m\u001b[0;34m\u001b[0m\u001b[0;34m\u001b[0m\u001b[0m\n\u001b[0m\u001b[1;32m   2649\u001b[0m         \u001b[0mindexer\u001b[0m \u001b[0;34m=\u001b[0m \u001b[0mself\u001b[0m\u001b[0;34m.\u001b[0m\u001b[0mget_indexer\u001b[0m\u001b[0;34m(\u001b[0m\u001b[0;34m[\u001b[0m\u001b[0mkey\u001b[0m\u001b[0;34m]\u001b[0m\u001b[0;34m,\u001b[0m \u001b[0mmethod\u001b[0m\u001b[0;34m=\u001b[0m\u001b[0mmethod\u001b[0m\u001b[0;34m,\u001b[0m \u001b[0mtolerance\u001b[0m\u001b[0;34m=\u001b[0m\u001b[0mtolerance\u001b[0m\u001b[0;34m)\u001b[0m\u001b[0;34m\u001b[0m\u001b[0;34m\u001b[0m\u001b[0m\n\u001b[1;32m   2650\u001b[0m         \u001b[0;32mif\u001b[0m \u001b[0mindexer\u001b[0m\u001b[0;34m.\u001b[0m\u001b[0mndim\u001b[0m \u001b[0;34m>\u001b[0m \u001b[0;36m1\u001b[0m \u001b[0;32mor\u001b[0m \u001b[0mindexer\u001b[0m\u001b[0;34m.\u001b[0m\u001b[0msize\u001b[0m \u001b[0;34m>\u001b[0m \u001b[0;36m1\u001b[0m\u001b[0;34m:\u001b[0m\u001b[0;34m\u001b[0m\u001b[0;34m\u001b[0m\u001b[0m\n",
      "\u001b[0;32mpandas/_libs/index.pyx\u001b[0m in \u001b[0;36mpandas._libs.index.IndexEngine.get_loc\u001b[0;34m()\u001b[0m\n",
      "\u001b[0;32mpandas/_libs/index.pyx\u001b[0m in \u001b[0;36mpandas._libs.index.IndexEngine.get_loc\u001b[0;34m()\u001b[0m\n",
      "\u001b[0;32mpandas/_libs/hashtable_class_helper.pxi\u001b[0m in \u001b[0;36mpandas._libs.hashtable.PyObjectHashTable.get_item\u001b[0;34m()\u001b[0m\n",
      "\u001b[0;32mpandas/_libs/hashtable_class_helper.pxi\u001b[0m in \u001b[0;36mpandas._libs.hashtable.PyObjectHashTable.get_item\u001b[0;34m()\u001b[0m\n",
      "\u001b[0;31mKeyError\u001b[0m: 'name_match'"
     ]
    }
   ],
   "source": [
    "user_input = input('Do you like this match? ')\n",
    "print (user_input)\n",
    "\n",
    "if user_input == 'Yes':\n",
    "    print(match_characteristics(1))  \n",
    "elif user_input == 'yes':\n",
    "        print(match_characteristics(1))\n",
    "else:\n",
    "    print('Okay, maybe one of the other 9 methods will be a better match.', get_recommendations(title).head(9))\n",
    "    \n",
    "#merge column with the user input with the users 'likes' describtion\n",
    "df1['Description_2'] = df1['Description_2']+ ' ' +df1['name_match']\n",
    "\n",
    "df1.loc[title, \"Description_2\"]"
   ]
  },
  {
   "cell_type": "code",
   "execution_count": null,
   "metadata": {},
   "outputs": [],
   "source": []
  }
 ],
 "metadata": {
  "kernelspec": {
   "display_name": "Python 3",
   "language": "python",
   "name": "python3"
  },
  "language_info": {
   "codemirror_mode": {
    "name": "ipython",
    "version": 3
   },
   "file_extension": ".py",
   "mimetype": "text/x-python",
   "name": "python",
   "nbconvert_exporter": "python",
   "pygments_lexer": "ipython3",
   "version": "3.8.3"
  }
 },
 "nbformat": 4,
 "nbformat_minor": 4
}
